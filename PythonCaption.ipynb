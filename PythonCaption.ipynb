{
 "cells": [
  {
   "cell_type": "code",
   "execution_count": 15,
   "id": "42b5fe98-143c-43eb-95fc-b3f2c0a88c54",
   "metadata": {},
   "outputs": [],
   "source": [
    "# https://www.youtube.com/watch?v=Z1e2fJFTdGI\n",
    "\n",
    "\n",
    "# TODO\n",
    "# -----\n",
    "# Tempted to create an outer brown border, white inside, then image inside\n",
    "\n",
    "\n",
    "\n",
    "from PIL import Image, ImageDraw, ImageFont, ImageOps\n",
    "import os\n",
    "\n",
    "border_as_percentage_of_image_longest_side = 0.01\n",
    "\n",
    "in_path = r'D:\\Onedrive\\Documents_Charl\\Computer_Technical\\Programming_GitHub\\AddImageCaption\\Landscape_Example.JPG'\n",
    "out_path = r'D:\\Onedrive\\Documents_Charl\\Computer_Technical\\Programming_GitHub\\AddImageCaption\\out.jpg'\n",
    "\n",
    "img = Image.open(in_path)\n",
    "\n",
    "# If orientation is stored via exif metadata then transpose image and remove the metadata\n",
    "img = ImageOps.exif_transpose(img)\n",
    "\n",
    "width, height = img.size\n",
    "max_side_lenth = max(width, height)\n",
    "border_width = int(max_side_lenth * border_as_percentage_of_image_longest_side)\n",
    "\n",
    "bi = Image.new(\n",
    "    'RGB', \n",
    "    (width + border_width * 2, height + (int(height/5))), \n",
    "    'RGB(200,200,200)')\n",
    "\n",
    "bi.paste(img, (border_width, border_width))\n",
    "# bi.paste(img, (5,5, (width+5), (height+5)))\n",
    "\n",
    "caption = 'Leaving Sydney'\n",
    "font = ImageFont.truetype('arial.ttf', 45)\n",
    "w,h  = font.getsize(caption)\n",
    "\n",
    "draw = ImageDraw.Draw(bi)\n",
    "draw.text(((width-w)/2, (height + ((height/5)-h)/2)), caption, font=font, fill = 'black')\n",
    "bi.save(out_path)\n",
    "\n"
   ]
  },
  {
   "cell_type": "code",
   "execution_count": 14,
   "id": "4ba065b8-1927-4709-8d8c-7ba3f40fb97e",
   "metadata": {},
   "outputs": [
    {
     "data": {
      "text/plain": [
       "5184"
      ]
     },
     "execution_count": 14,
     "metadata": {},
     "output_type": "execute_result"
    }
   ],
   "source": [
    "height"
   ]
  }
 ],
 "metadata": {
  "kernelspec": {
   "display_name": "Python 3 (ipykernel)",
   "language": "python",
   "name": "python3"
  },
  "language_info": {
   "codemirror_mode": {
    "name": "ipython",
    "version": 3
   },
   "file_extension": ".py",
   "mimetype": "text/x-python",
   "name": "python",
   "nbconvert_exporter": "python",
   "pygments_lexer": "ipython3",
   "version": "3.9.12"
  }
 },
 "nbformat": 4,
 "nbformat_minor": 5
}
