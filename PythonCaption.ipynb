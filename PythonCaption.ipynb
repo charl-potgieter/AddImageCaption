{
 "cells": [
  {
   "cell_type": "code",
   "execution_count": 3,
   "id": "42b5fe98-143c-43eb-95fc-b3f2c0a88c54",
   "metadata": {},
   "outputs": [],
   "source": [
    "# https://www.youtube.com/watch?v=Z1e2fJFTdGI\n",
    "\n",
    "\n",
    "# TODO\n",
    "# -----\n",
    "# The space below the image may need to be varied depending on whether it is portrait or landscpe\n",
    "# Test on a lower res image to ensure everything still stays in allignment\n",
    "\n",
    "\n",
    "from PIL import Image, ImageDraw, ImageFont, ImageOps\n",
    "import os\n",
    "\n",
    "in_path = r'D:\\Onedrive\\Documents_Charl\\Computer_Technical\\Programming_GitHub\\AddImageCaption\\Portrait_Example.JPG'\n",
    "out_path = r'D:\\Onedrive\\Documents_Charl\\Computer_Technical\\Programming_GitHub\\AddImageCaption\\out.jpg'\n",
    "\n",
    "frame_as_percentage_of_image_longest_side = 0.0075\n",
    "\n",
    "# Below where border is the space between the frame and the image\n",
    "lower_border_as_percentage_of_image_longest_side = 0.08\n",
    "other_borders_as_percentage_of_image_longest_side = 0.03\n",
    "\n",
    "img = Image.open(in_path)\n",
    "\n",
    "# If orientation is stored via exif metadata then transpose image and remove the metadata\n",
    "img = ImageOps.exif_transpose(img)\n",
    "\n",
    "img_width, img_height = img.size\n",
    "max_side_lenth = max(img_width, img_height)\n",
    "frame_width = int(max_side_lenth * frame_as_percentage_of_image_longest_side)\n",
    "lower_border_width = int(max_side_lenth * lower_border_as_percentage_of_image_longest_side)\n",
    "other_border_width = int(max_side_lenth * other_borders_as_percentage_of_image_longest_side)\n",
    "\n",
    "\n",
    "img_border = Image.new(\n",
    "    'RGB', \n",
    "    (img_width + other_border_width * 2, img_height + lower_border_width + other_border_width), \n",
    "    'RGB(220,220,220)')\n",
    "\n",
    "img_border.paste(img, (other_border_width, other_border_width))\n",
    "\n",
    "caption = 'Leaving Sydney'\n",
    "font = ImageFont.truetype('arial.ttf', 45)\n",
    "w,h  = font.getsize(caption)\n",
    "\n",
    "draw = ImageDraw.Draw(img_border)\n",
    "draw.text(((img_width-w)/2, (img_height + ((img_height/5)-h)/2)), caption, font=font, fill = 'black')\n",
    "\n",
    "img_frame = Image.new(\n",
    "    'RGB', \n",
    "    (img_width + other_border_width * 2 + frame_width * 2, img_height + lower_border_width + other_border_width + frame_width * 2), \n",
    "    'RGB(120,75,50)')\n",
    "\n",
    "img_frame.paste(img_border, (frame_width, frame_width))\n",
    "\n",
    "\n",
    "img_frame.save(out_path)\n",
    "\n"
   ]
  },
  {
   "cell_type": "code",
   "execution_count": 8,
   "id": "9f482695-7145-41db-acfa-3ea11c372e61",
   "metadata": {},
   "outputs": [
    {
     "data": {
      "text/plain": [
       "50"
      ]
     },
     "execution_count": 8,
     "metadata": {},
     "output_type": "execute_result"
    }
   ],
   "source": [
    "h"
   ]
  },
  {
   "cell_type": "code",
   "execution_count": null,
   "id": "dc149807-225d-4250-bc24-ee0ca75b56a7",
   "metadata": {},
   "outputs": [],
   "source": []
  },
  {
   "cell_type": "code",
   "execution_count": 17,
   "id": "4ba065b8-1927-4709-8d8c-7ba3f40fb97e",
   "metadata": {},
   "outputs": [
    {
     "data": {
      "text/plain": [
       "3456"
      ]
     },
     "execution_count": 17,
     "metadata": {},
     "output_type": "execute_result"
    }
   ],
   "source": [
    "height"
   ]
  }
 ],
 "metadata": {
  "kernelspec": {
   "display_name": "Python 3 (ipykernel)",
   "language": "python",
   "name": "python3"
  },
  "language_info": {
   "codemirror_mode": {
    "name": "ipython",
    "version": 3
   },
   "file_extension": ".py",
   "mimetype": "text/x-python",
   "name": "python",
   "nbconvert_exporter": "python",
   "pygments_lexer": "ipython3",
   "version": "3.9.12"
  }
 },
 "nbformat": 4,
 "nbformat_minor": 5
}
